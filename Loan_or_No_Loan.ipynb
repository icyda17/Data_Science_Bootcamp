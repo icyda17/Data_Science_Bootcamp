{
  "nbformat": 4,
  "nbformat_minor": 0,
  "metadata": {
    "colab": {
      "name": "Loan or No Loan.ipynb",
      "provenance": [],
      "collapsed_sections": [],
      "toc_visible": true,
      "authorship_tag": "ABX9TyP61uNnygrjjbggWtj6tBNv",
      "include_colab_link": true
    },
    "kernelspec": {
      "name": "python3",
      "display_name": "Python 3"
    }
  },
  "cells": [
    {
      "cell_type": "markdown",
      "metadata": {
        "id": "view-in-github",
        "colab_type": "text"
      },
      "source": [
        "<a href=\"https://colab.research.google.com/github/icyda17/Data_Science_Bootcamp/blob/master/Loan_or_No_Loan.ipynb\" target=\"_parent\"><img src=\"https://colab.research.google.com/assets/colab-badge.svg\" alt=\"Open In Colab\"/></a>"
      ]
    },
    {
      "cell_type": "markdown",
      "metadata": {
        "id": "tAx93oF9kbpT"
      },
      "source": [
        "#Library"
      ]
    },
    {
      "cell_type": "code",
      "metadata": {
        "id": "i1UJxRfoi5bH"
      },
      "source": [
        "import pandas as pd\r\n",
        "import numpy as np\r\n",
        "\r\n",
        "import seaborn as sns\r\n",
        "import matplotlib.pyplot as plt\r\n",
        "from statsmodels.graphics.gofplots import qqplot\r\n",
        "\r\n",
        "from sklearn.preprocessing import StandardScaler, MinMaxScaler\r\n",
        "from sklearn.model_selection import train_test_split, GridSearchCV\r\n",
        "\r\n",
        "from sklearn.ensemble import RandomForestClassifier #for the model\r\n",
        "from sklearn.tree import DecisionTreeClassifier\r\n",
        "from sklearn.linear_model import LogisticRegression\r\n",
        "from sklearn.linear_model import SGDClassifier\r\n",
        "from sklearn.ensemble import ExtraTreesClassifier\r\n",
        "from sklearn.ensemble import BaggingClassifier\r\n",
        "from sklearn.ensemble import AdaBoostClassifier\r\n",
        "from sklearn.ensemble import GradientBoostingClassifier\r\n",
        "from sklearn.ensemble import VotingClassifier\r\n",
        "from sklearn.linear_model import Perceptron\r\n",
        "\r\n",
        "from sklearn.neighbors import KNeighborsClassifier\r\n",
        "from sklearn.svm import SVC\r\n",
        "from xgboost import XGBClassifier\r\n",
        "\r\n",
        "\r\n",
        "from sklearn.metrics import classification_report #for model evaluation\r\n",
        "from sklearn.metrics import confusion_matrix,f1_score #for model evaluation\r\n",
        "\r\n",
        "pd.options.mode.chained_assignment = None"
      ],
      "execution_count": 389,
      "outputs": []
    },
    {
      "cell_type": "markdown",
      "metadata": {
        "id": "Y93hdJJAkhCH"
      },
      "source": [
        "#Read Data"
      ]
    },
    {
      "cell_type": "code",
      "metadata": {
        "id": "fYVgitgdjKKa"
      },
      "source": [
        "df  = pd.read_csv(\"https://raw.githubusercontent.com/dphi-official/Datasets/master/Loan_Data/loan_train.csv\" )"
      ],
      "execution_count": 390,
      "outputs": []
    },
    {
      "cell_type": "code",
      "metadata": {
        "colab": {
          "base_uri": "https://localhost:8080/",
          "height": 278
        },
        "id": "Z8cyz-P9jN6Q",
        "outputId": "d6b6dea4-32a2-4bc9-d18a-b0f21504f802"
      },
      "source": [
        "df.head()"
      ],
      "execution_count": 391,
      "outputs": [
        {
          "output_type": "execute_result",
          "data": {
            "text/html": [
              "<div>\n",
              "<style scoped>\n",
              "    .dataframe tbody tr th:only-of-type {\n",
              "        vertical-align: middle;\n",
              "    }\n",
              "\n",
              "    .dataframe tbody tr th {\n",
              "        vertical-align: top;\n",
              "    }\n",
              "\n",
              "    .dataframe thead th {\n",
              "        text-align: right;\n",
              "    }\n",
              "</style>\n",
              "<table border=\"1\" class=\"dataframe\">\n",
              "  <thead>\n",
              "    <tr style=\"text-align: right;\">\n",
              "      <th></th>\n",
              "      <th>Unnamed: 0</th>\n",
              "      <th>Loan_ID</th>\n",
              "      <th>Gender</th>\n",
              "      <th>Married</th>\n",
              "      <th>Dependents</th>\n",
              "      <th>Education</th>\n",
              "      <th>Self_Employed</th>\n",
              "      <th>ApplicantIncome</th>\n",
              "      <th>CoapplicantIncome</th>\n",
              "      <th>LoanAmount</th>\n",
              "      <th>Loan_Amount_Term</th>\n",
              "      <th>Credit_History</th>\n",
              "      <th>Property_Area</th>\n",
              "      <th>Loan_Status</th>\n",
              "    </tr>\n",
              "  </thead>\n",
              "  <tbody>\n",
              "    <tr>\n",
              "      <th>0</th>\n",
              "      <td>0</td>\n",
              "      <td>LP002305</td>\n",
              "      <td>Female</td>\n",
              "      <td>No</td>\n",
              "      <td>0</td>\n",
              "      <td>Graduate</td>\n",
              "      <td>No</td>\n",
              "      <td>4547</td>\n",
              "      <td>0.0</td>\n",
              "      <td>115.0</td>\n",
              "      <td>360.0</td>\n",
              "      <td>1.0</td>\n",
              "      <td>Semiurban</td>\n",
              "      <td>1</td>\n",
              "    </tr>\n",
              "    <tr>\n",
              "      <th>1</th>\n",
              "      <td>1</td>\n",
              "      <td>LP001715</td>\n",
              "      <td>Male</td>\n",
              "      <td>Yes</td>\n",
              "      <td>3+</td>\n",
              "      <td>Not Graduate</td>\n",
              "      <td>Yes</td>\n",
              "      <td>5703</td>\n",
              "      <td>0.0</td>\n",
              "      <td>130.0</td>\n",
              "      <td>360.0</td>\n",
              "      <td>1.0</td>\n",
              "      <td>Rural</td>\n",
              "      <td>1</td>\n",
              "    </tr>\n",
              "    <tr>\n",
              "      <th>2</th>\n",
              "      <td>2</td>\n",
              "      <td>LP002086</td>\n",
              "      <td>Female</td>\n",
              "      <td>Yes</td>\n",
              "      <td>0</td>\n",
              "      <td>Graduate</td>\n",
              "      <td>No</td>\n",
              "      <td>4333</td>\n",
              "      <td>2451.0</td>\n",
              "      <td>110.0</td>\n",
              "      <td>360.0</td>\n",
              "      <td>1.0</td>\n",
              "      <td>Urban</td>\n",
              "      <td>0</td>\n",
              "    </tr>\n",
              "    <tr>\n",
              "      <th>3</th>\n",
              "      <td>3</td>\n",
              "      <td>LP001136</td>\n",
              "      <td>Male</td>\n",
              "      <td>Yes</td>\n",
              "      <td>0</td>\n",
              "      <td>Not Graduate</td>\n",
              "      <td>Yes</td>\n",
              "      <td>4695</td>\n",
              "      <td>0.0</td>\n",
              "      <td>96.0</td>\n",
              "      <td>NaN</td>\n",
              "      <td>1.0</td>\n",
              "      <td>Urban</td>\n",
              "      <td>1</td>\n",
              "    </tr>\n",
              "    <tr>\n",
              "      <th>4</th>\n",
              "      <td>4</td>\n",
              "      <td>LP002529</td>\n",
              "      <td>Male</td>\n",
              "      <td>Yes</td>\n",
              "      <td>2</td>\n",
              "      <td>Graduate</td>\n",
              "      <td>No</td>\n",
              "      <td>6700</td>\n",
              "      <td>1750.0</td>\n",
              "      <td>230.0</td>\n",
              "      <td>300.0</td>\n",
              "      <td>1.0</td>\n",
              "      <td>Semiurban</td>\n",
              "      <td>1</td>\n",
              "    </tr>\n",
              "  </tbody>\n",
              "</table>\n",
              "</div>"
            ],
            "text/plain": [
              "   Unnamed: 0   Loan_ID  Gender  ... Credit_History Property_Area Loan_Status\n",
              "0           0  LP002305  Female  ...            1.0     Semiurban           1\n",
              "1           1  LP001715    Male  ...            1.0         Rural           1\n",
              "2           2  LP002086  Female  ...            1.0         Urban           0\n",
              "3           3  LP001136    Male  ...            1.0         Urban           1\n",
              "4           4  LP002529    Male  ...            1.0     Semiurban           1\n",
              "\n",
              "[5 rows x 14 columns]"
            ]
          },
          "metadata": {
            "tags": []
          },
          "execution_count": 391
        }
      ]
    },
    {
      "cell_type": "code",
      "metadata": {
        "colab": {
          "base_uri": "https://localhost:8080/"
        },
        "id": "vl2015ZxjP61",
        "outputId": "eb412a24-69dc-4cc7-82b7-86f664572357"
      },
      "source": [
        "df.info()"
      ],
      "execution_count": 392,
      "outputs": [
        {
          "output_type": "stream",
          "text": [
            "<class 'pandas.core.frame.DataFrame'>\n",
            "RangeIndex: 491 entries, 0 to 490\n",
            "Data columns (total 14 columns):\n",
            " #   Column             Non-Null Count  Dtype  \n",
            "---  ------             --------------  -----  \n",
            " 0   Unnamed: 0         491 non-null    int64  \n",
            " 1   Loan_ID            491 non-null    object \n",
            " 2   Gender             481 non-null    object \n",
            " 3   Married            490 non-null    object \n",
            " 4   Dependents         482 non-null    object \n",
            " 5   Education          491 non-null    object \n",
            " 6   Self_Employed      462 non-null    object \n",
            " 7   ApplicantIncome    491 non-null    int64  \n",
            " 8   CoapplicantIncome  491 non-null    float64\n",
            " 9   LoanAmount         475 non-null    float64\n",
            " 10  Loan_Amount_Term   478 non-null    float64\n",
            " 11  Credit_History     448 non-null    float64\n",
            " 12  Property_Area      491 non-null    object \n",
            " 13  Loan_Status        491 non-null    int64  \n",
            "dtypes: float64(4), int64(3), object(7)\n",
            "memory usage: 53.8+ KB\n"
          ],
          "name": "stdout"
        }
      ]
    },
    {
      "cell_type": "markdown",
      "metadata": {
        "id": "JJE28sj_oJNe"
      },
      "source": [
        "###Unique Values"
      ]
    },
    {
      "cell_type": "code",
      "metadata": {
        "colab": {
          "base_uri": "https://localhost:8080/"
        },
        "id": "kuog83Mojoy3",
        "outputId": "6757ac43-d8d1-47d1-b6b9-cb6a4b5900db"
      },
      "source": [
        "for column in df.drop(['Unnamed: 0','Loan_ID','ApplicantIncome','CoapplicantIncome'], axis = 1).columns:\r\n",
        "    print('==============================')\r\n",
        "    print(f\"{column} : {df[column].unique()}\")"
      ],
      "execution_count": 393,
      "outputs": [
        {
          "output_type": "stream",
          "text": [
            "==============================\n",
            "Gender : ['Female' 'Male' nan]\n",
            "==============================\n",
            "Married : ['No' 'Yes' nan]\n",
            "==============================\n",
            "Dependents : ['0' '3+' '2' '1' nan]\n",
            "==============================\n",
            "Education : ['Graduate' 'Not Graduate']\n",
            "==============================\n",
            "Self_Employed : ['No' 'Yes' nan]\n",
            "==============================\n",
            "LoanAmount : [115. 130. 110.  96. 230.  87. 265. 161. 304. 126. 101. 152. 144. 187.\n",
            " 267. 105. 108. 188. 349. 143.  67. 150.  73. 280.  95. 112. 132. 173.\n",
            " 175. 123.  98.  80. 107. 286.  50. 151. 380. 207. 158. 209. 128. 312.\n",
            " 135. 210. 170. 120. 182.  88.  66. 103. 700. 186. 102.  55. 155.  30.\n",
            " 200. 113. 153. 308. 122. 106. 160. 124.  90. 133. 148. 136.  25. 157.\n",
            "  62.  60. 234. 205. 125. 100. 116.  40. 258.  nan 131.  75. 260. 201.\n",
            " 140. 118. 111. 180.  70.  74. 154. 104. 185. 495. 172.  99.  36. 127.\n",
            " 600.  44.  86.  81. 145. 121.  89. 320. 162. 296. 259. 436. 137.  56.\n",
            " 253.  85. 275. 480. 129. 176.  45. 184.  42.  47. 228.  84. 191.  83.\n",
            " 214.  46.  26. 500.  53.  58. 650. 139.  35. 208. 156. 190. 134. 142.\n",
            " 165.  97.  72. 300. 350. 376. 250.  71. 167. 255. 216. 330.  63. 146.\n",
            " 168. 246. 225. 149.  61. 141.  76. 138. 211. 370. 315. 490.  94. 194.\n",
            " 400.  17.  93.  78. 196. 109. 117. 360. 178.]\n",
            "==============================\n",
            "Loan_Amount_Term : [360.  nan 300. 180.  84. 480. 240. 120.  36.  12.  60.]\n",
            "==============================\n",
            "Credit_History : [ 1. nan  0.]\n",
            "==============================\n",
            "Property_Area : ['Semiurban' 'Rural' 'Urban']\n",
            "==============================\n",
            "Loan_Status : [1 0]\n"
          ],
          "name": "stdout"
        }
      ]
    },
    {
      "cell_type": "markdown",
      "metadata": {
        "id": "Wn_pqy4PoNTv"
      },
      "source": [
        "###Range Value"
      ]
    },
    {
      "cell_type": "code",
      "metadata": {
        "colab": {
          "base_uri": "https://localhost:8080/",
          "height": 300
        },
        "id": "A6R_8SBpnpEA",
        "outputId": "3370c7cb-0683-4a7e-d163-5d33ebb0bb38"
      },
      "source": [
        "df.describe()"
      ],
      "execution_count": 394,
      "outputs": [
        {
          "output_type": "execute_result",
          "data": {
            "text/html": [
              "<div>\n",
              "<style scoped>\n",
              "    .dataframe tbody tr th:only-of-type {\n",
              "        vertical-align: middle;\n",
              "    }\n",
              "\n",
              "    .dataframe tbody tr th {\n",
              "        vertical-align: top;\n",
              "    }\n",
              "\n",
              "    .dataframe thead th {\n",
              "        text-align: right;\n",
              "    }\n",
              "</style>\n",
              "<table border=\"1\" class=\"dataframe\">\n",
              "  <thead>\n",
              "    <tr style=\"text-align: right;\">\n",
              "      <th></th>\n",
              "      <th>Unnamed: 0</th>\n",
              "      <th>ApplicantIncome</th>\n",
              "      <th>CoapplicantIncome</th>\n",
              "      <th>LoanAmount</th>\n",
              "      <th>Loan_Amount_Term</th>\n",
              "      <th>Credit_History</th>\n",
              "      <th>Loan_Status</th>\n",
              "    </tr>\n",
              "  </thead>\n",
              "  <tbody>\n",
              "    <tr>\n",
              "      <th>count</th>\n",
              "      <td>491.000000</td>\n",
              "      <td>491.000000</td>\n",
              "      <td>491.000000</td>\n",
              "      <td>475.000000</td>\n",
              "      <td>478.000000</td>\n",
              "      <td>448.000000</td>\n",
              "      <td>491.000000</td>\n",
              "    </tr>\n",
              "    <tr>\n",
              "      <th>mean</th>\n",
              "      <td>245.000000</td>\n",
              "      <td>5401.189409</td>\n",
              "      <td>1589.730998</td>\n",
              "      <td>145.014737</td>\n",
              "      <td>341.297071</td>\n",
              "      <td>0.848214</td>\n",
              "      <td>0.698574</td>\n",
              "    </tr>\n",
              "    <tr>\n",
              "      <th>std</th>\n",
              "      <td>141.883755</td>\n",
              "      <td>6419.427177</td>\n",
              "      <td>2919.320624</td>\n",
              "      <td>86.310534</td>\n",
              "      <td>66.964051</td>\n",
              "      <td>0.359214</td>\n",
              "      <td>0.459345</td>\n",
              "    </tr>\n",
              "    <tr>\n",
              "      <th>min</th>\n",
              "      <td>0.000000</td>\n",
              "      <td>150.000000</td>\n",
              "      <td>0.000000</td>\n",
              "      <td>17.000000</td>\n",
              "      <td>12.000000</td>\n",
              "      <td>0.000000</td>\n",
              "      <td>0.000000</td>\n",
              "    </tr>\n",
              "    <tr>\n",
              "      <th>25%</th>\n",
              "      <td>122.500000</td>\n",
              "      <td>2923.500000</td>\n",
              "      <td>0.000000</td>\n",
              "      <td>100.000000</td>\n",
              "      <td>360.000000</td>\n",
              "      <td>1.000000</td>\n",
              "      <td>0.000000</td>\n",
              "    </tr>\n",
              "    <tr>\n",
              "      <th>50%</th>\n",
              "      <td>245.000000</td>\n",
              "      <td>3865.000000</td>\n",
              "      <td>1229.000000</td>\n",
              "      <td>126.000000</td>\n",
              "      <td>360.000000</td>\n",
              "      <td>1.000000</td>\n",
              "      <td>1.000000</td>\n",
              "    </tr>\n",
              "    <tr>\n",
              "      <th>75%</th>\n",
              "      <td>367.500000</td>\n",
              "      <td>5705.500000</td>\n",
              "      <td>2251.500000</td>\n",
              "      <td>162.000000</td>\n",
              "      <td>360.000000</td>\n",
              "      <td>1.000000</td>\n",
              "      <td>1.000000</td>\n",
              "    </tr>\n",
              "    <tr>\n",
              "      <th>max</th>\n",
              "      <td>490.000000</td>\n",
              "      <td>81000.000000</td>\n",
              "      <td>41667.000000</td>\n",
              "      <td>700.000000</td>\n",
              "      <td>480.000000</td>\n",
              "      <td>1.000000</td>\n",
              "      <td>1.000000</td>\n",
              "    </tr>\n",
              "  </tbody>\n",
              "</table>\n",
              "</div>"
            ],
            "text/plain": [
              "       Unnamed: 0  ApplicantIncome  ...  Credit_History  Loan_Status\n",
              "count  491.000000       491.000000  ...      448.000000   491.000000\n",
              "mean   245.000000      5401.189409  ...        0.848214     0.698574\n",
              "std    141.883755      6419.427177  ...        0.359214     0.459345\n",
              "min      0.000000       150.000000  ...        0.000000     0.000000\n",
              "25%    122.500000      2923.500000  ...        1.000000     0.000000\n",
              "50%    245.000000      3865.000000  ...        1.000000     1.000000\n",
              "75%    367.500000      5705.500000  ...        1.000000     1.000000\n",
              "max    490.000000     81000.000000  ...        1.000000     1.000000\n",
              "\n",
              "[8 rows x 7 columns]"
            ]
          },
          "metadata": {
            "tags": []
          },
          "execution_count": 394
        }
      ]
    },
    {
      "cell_type": "markdown",
      "metadata": {
        "id": "5J_8gYNPn1to"
      },
      "source": [
        "Here we can observe that the maximum value of ApplicantIncome and CoapplicantIncome is much higher than the 75% of the data of ApplicantIncome and CoapplicantIncome respectively."
      ]
    },
    {
      "cell_type": "markdown",
      "metadata": {
        "id": "W3OQAAfBoQhe"
      },
      "source": [
        "###Dtypes"
      ]
    },
    {
      "cell_type": "code",
      "metadata": {
        "colab": {
          "base_uri": "https://localhost:8080/"
        },
        "id": "gFdPrIzioUG4",
        "outputId": "c7196810-3fb9-42c0-e880-5bf1ff4cb003"
      },
      "source": [
        "df.dtypes"
      ],
      "execution_count": 395,
      "outputs": [
        {
          "output_type": "execute_result",
          "data": {
            "text/plain": [
              "Unnamed: 0             int64\n",
              "Loan_ID               object\n",
              "Gender                object\n",
              "Married               object\n",
              "Dependents            object\n",
              "Education             object\n",
              "Self_Employed         object\n",
              "ApplicantIncome        int64\n",
              "CoapplicantIncome    float64\n",
              "LoanAmount           float64\n",
              "Loan_Amount_Term     float64\n",
              "Credit_History       float64\n",
              "Property_Area         object\n",
              "Loan_Status            int64\n",
              "dtype: object"
            ]
          },
          "metadata": {
            "tags": []
          },
          "execution_count": 395
        }
      ]
    },
    {
      "cell_type": "code",
      "metadata": {
        "id": "VwjaAm5GozKW"
      },
      "source": [
        "df = df.astype({'Credit_History': 'object', 'Loan_Status': 'object'})"
      ],
      "execution_count": 396,
      "outputs": []
    },
    {
      "cell_type": "markdown",
      "metadata": {
        "id": "YInRJ8hXmDC4"
      },
      "source": [
        "#Missing values"
      ]
    },
    {
      "cell_type": "code",
      "metadata": {
        "colab": {
          "base_uri": "https://localhost:8080/"
        },
        "id": "5yaUrzh0lcAq",
        "outputId": "bd61f8e2-5872-427f-c388-4f3eb95fe2ce"
      },
      "source": [
        "df.isnull().sum()"
      ],
      "execution_count": 397,
      "outputs": [
        {
          "output_type": "execute_result",
          "data": {
            "text/plain": [
              "Unnamed: 0            0\n",
              "Loan_ID               0\n",
              "Gender               10\n",
              "Married               1\n",
              "Dependents            9\n",
              "Education             0\n",
              "Self_Employed        29\n",
              "ApplicantIncome       0\n",
              "CoapplicantIncome     0\n",
              "LoanAmount           16\n",
              "Loan_Amount_Term     13\n",
              "Credit_History       43\n",
              "Property_Area         0\n",
              "Loan_Status           0\n",
              "dtype: int64"
            ]
          },
          "metadata": {
            "tags": []
          },
          "execution_count": 397
        }
      ]
    },
    {
      "cell_type": "code",
      "metadata": {
        "id": "yHqqoYy9mJBH"
      },
      "source": [
        "df['LoanAmount'].fillna(df['LoanAmount'].mean(), inplace = True)"
      ],
      "execution_count": 398,
      "outputs": []
    },
    {
      "cell_type": "code",
      "metadata": {
        "id": "0wdaF3JapfAk"
      },
      "source": [
        "df['Credit_History'].fillna(df['Credit_History'].mode()[0], inplace = True)"
      ],
      "execution_count": 399,
      "outputs": []
    },
    {
      "cell_type": "code",
      "metadata": {
        "id": "amCq7xORptgh"
      },
      "source": [
        "df.dropna(inplace=True)"
      ],
      "execution_count": 400,
      "outputs": []
    },
    {
      "cell_type": "code",
      "metadata": {
        "colab": {
          "base_uri": "https://localhost:8080/"
        },
        "id": "G8JgwcORp1KR",
        "outputId": "0abba3d9-c1cd-4183-f2e4-98bd705fe794"
      },
      "source": [
        "df.shape"
      ],
      "execution_count": 401,
      "outputs": [
        {
          "output_type": "execute_result",
          "data": {
            "text/plain": [
              "(432, 14)"
            ]
          },
          "metadata": {
            "tags": []
          },
          "execution_count": 401
        }
      ]
    },
    {
      "cell_type": "code",
      "metadata": {
        "id": "8P3dESJsri7H"
      },
      "source": [
        "df = df.astype({'Credit_History': 'object'})"
      ],
      "execution_count": 402,
      "outputs": []
    },
    {
      "cell_type": "markdown",
      "metadata": {
        "id": "wRyy6y8GqMVg"
      },
      "source": [
        "#Multivariate Analysis"
      ]
    },
    {
      "cell_type": "code",
      "metadata": {
        "id": "V1ddAGSdp2cv"
      },
      "source": [
        "df_cat = df.select_dtypes(include = ['object'])\r\n",
        "df_num = df.select_dtypes(include=['int64', 'float64'])"
      ],
      "execution_count": 403,
      "outputs": []
    },
    {
      "cell_type": "code",
      "metadata": {
        "colab": {
          "base_uri": "https://localhost:8080/",
          "height": 1000
        },
        "id": "mKWUHkQAqbHs",
        "outputId": "4a130c4b-d46f-4c06-e025-fd8f57d1d9a5"
      },
      "source": [
        "plt.figure(figsize=(20, 25))\r\n",
        "\r\n",
        "for i, column in enumerate(df_cat, 1):\r\n",
        "    plt.subplot(4, 3, i)\r\n",
        "    df[df[\"Loan_Status\"] == 0][column].hist(bins=35, color='blue', label='NO Loan', alpha=0.6)\r\n",
        "    df[df[\"Loan_Status\"] == 1][column].hist(bins=35, color='red', label='Loan', alpha=0.6)\r\n",
        "    plt.legend()\r\n",
        "    plt.xlabel(column)\r\n",
        "    plt.xticks(rotation = 10)"
      ],
      "execution_count": 404,
      "outputs": [
        {
          "output_type": "display_data",
          "data": {
            "image/png": "[encoded data removed]",
            "text/plain": [
              "<Figure size 1440x1800 with 9 Axes>"
            ]
          },
          "metadata": {
            "tags": [],
            "needs_background": "light"
          }
        }
      ]
    },
    {
      "cell_type": "code",
      "metadata": {
        "colab": {
          "base_uri": "https://localhost:8080/",
          "height": 685
        },
        "id": "QnPMGPmxqqPs",
        "outputId": "b05b02d2-1a60-4fd2-9974-83650c3755a3"
      },
      "source": [
        "plt.figure(figsize=(20, 25))\r\n",
        "for i, column in enumerate(df_num, 1):\r\n",
        "    plt.subplot(4, 3, i)\r\n",
        "    df[df[\"Loan_Status\"] == 0][column].hist(bins=35, color='blue', label='NO Loan', alpha=0.6)\r\n",
        "    df[df[\"Loan_Status\"] == 1][column].hist(bins=35, color='red', label='Loan', alpha=0.6)\r\n",
        "    plt.legend()\r\n",
        "    plt.xlabel(column)\r\n",
        "    plt.xticks(rotation = 10)"
      ],
      "execution_count": 405,
      "outputs": [
        {
          "output_type": "display_data",
          "data": {
            "image/png": "[encoded data removed]",
            "text/plain": [
              "<Figure size 1440x1800 with 5 Axes>"
            ]
          },
          "metadata": {
            "tags": [],
            "needs_background": "light"
          }
        }
      ]
    },
    {
      "cell_type": "code",
      "metadata": {
        "id": "fBEaRCXzg0FR"
      },
      "source": [
        "df = df.astype({'Loan_Status': 'int64'})"
      ],
      "execution_count": 406,
      "outputs": []
    },
    {
      "cell_type": "code",
      "metadata": {
        "id": "6wc-55QPrTPb",
        "colab": {
          "base_uri": "https://localhost:8080/",
          "height": 386
        },
        "outputId": "fed74b2a-b7a6-4a2e-c706-7b449de4bc06"
      },
      "source": [
        "plt.title('Correlation Matrix')\r\n",
        "sns.heatmap(df.corr(),annot=True)"
      ],
      "execution_count": 407,
      "outputs": [
        {
          "output_type": "execute_result",
          "data": {
            "text/plain": [
              "<matplotlib.axes._subplots.AxesSubplot at 0x7f5c8a4ae5f8>"
            ]
          },
          "metadata": {
            "tags": []
          },
          "execution_count": 407
        },
        {
          "output_type": "display_data",
          "data": {
            "image/png": "[encoded data removed]",
            "text/plain": [
              "<Figure size 432x288 with 2 Axes>"
            ]
          },
          "metadata": {
            "tags": [],
            "needs_background": "light"
          }
        }
      ]
    },
    {
      "cell_type": "code",
      "metadata": {
        "id": "vbWqUUmyghOs"
      },
      "source": [
        "df.drop(['Unnamed: 0','Loan_ID','ApplicantIncome','CoapplicantIncome','LoanAmount','Loan_Amount_Term'],axis = 1, inplace=True)"
      ],
      "execution_count": 408,
      "outputs": []
    },
    {
      "cell_type": "code",
      "metadata": {
        "colab": {
          "base_uri": "https://localhost:8080/",
          "height": 206
        },
        "id": "6VvcIGfzhVe2",
        "outputId": "3271af73-7c11-4009-f105-96846eab6e73"
      },
      "source": [
        "df.head()"
      ],
      "execution_count": 409,
      "outputs": [
        {
          "output_type": "execute_result",
          "data": {
            "text/html": [
              "<div>\n",
              "<style scoped>\n",
              "    .dataframe tbody tr th:only-of-type {\n",
              "        vertical-align: middle;\n",
              "    }\n",
              "\n",
              "    .dataframe tbody tr th {\n",
              "        vertical-align: top;\n",
              "    }\n",
              "\n",
              "    .dataframe thead th {\n",
              "        text-align: right;\n",
              "    }\n",
              "</style>\n",
              "<table border=\"1\" class=\"dataframe\">\n",
              "  <thead>\n",
              "    <tr style=\"text-align: right;\">\n",
              "      <th></th>\n",
              "      <th>Gender</th>\n",
              "      <th>Married</th>\n",
              "      <th>Dependents</th>\n",
              "      <th>Education</th>\n",
              "      <th>Self_Employed</th>\n",
              "      <th>Credit_History</th>\n",
              "      <th>Property_Area</th>\n",
              "      <th>Loan_Status</th>\n",
              "    </tr>\n",
              "  </thead>\n",
              "  <tbody>\n",
              "    <tr>\n",
              "      <th>0</th>\n",
              "      <td>Female</td>\n",
              "      <td>No</td>\n",
              "      <td>0</td>\n",
              "      <td>Graduate</td>\n",
              "      <td>No</td>\n",
              "      <td>1</td>\n",
              "      <td>Semiurban</td>\n",
              "      <td>1</td>\n",
              "    </tr>\n",
              "    <tr>\n",
              "      <th>1</th>\n",
              "      <td>Male</td>\n",
              "      <td>Yes</td>\n",
              "      <td>3+</td>\n",
              "      <td>Not Graduate</td>\n",
              "      <td>Yes</td>\n",
              "      <td>1</td>\n",
              "      <td>Rural</td>\n",
              "      <td>1</td>\n",
              "    </tr>\n",
              "    <tr>\n",
              "      <th>2</th>\n",
              "      <td>Female</td>\n",
              "      <td>Yes</td>\n",
              "      <td>0</td>\n",
              "      <td>Graduate</td>\n",
              "      <td>No</td>\n",
              "      <td>1</td>\n",
              "      <td>Urban</td>\n",
              "      <td>0</td>\n",
              "    </tr>\n",
              "    <tr>\n",
              "      <th>4</th>\n",
              "      <td>Male</td>\n",
              "      <td>Yes</td>\n",
              "      <td>2</td>\n",
              "      <td>Graduate</td>\n",
              "      <td>No</td>\n",
              "      <td>1</td>\n",
              "      <td>Semiurban</td>\n",
              "      <td>1</td>\n",
              "    </tr>\n",
              "    <tr>\n",
              "      <th>5</th>\n",
              "      <td>Male</td>\n",
              "      <td>Yes</td>\n",
              "      <td>0</td>\n",
              "      <td>Not Graduate</td>\n",
              "      <td>Yes</td>\n",
              "      <td>1</td>\n",
              "      <td>Semiurban</td>\n",
              "      <td>0</td>\n",
              "    </tr>\n",
              "  </tbody>\n",
              "</table>\n",
              "</div>"
            ],
            "text/plain": [
              "   Gender Married Dependents  ... Credit_History Property_Area Loan_Status\n",
              "0  Female      No          0  ...              1     Semiurban           1\n",
              "1    Male     Yes         3+  ...              1         Rural           1\n",
              "2  Female     Yes          0  ...              1         Urban           0\n",
              "4    Male     Yes          2  ...              1     Semiurban           1\n",
              "5    Male     Yes          0  ...              1     Semiurban           0\n",
              "\n",
              "[5 rows x 8 columns]"
            ]
          },
          "metadata": {
            "tags": []
          },
          "execution_count": 409
        }
      ]
    },
    {
      "cell_type": "code",
      "metadata": {
        "id": "a6YADaUHhZU6"
      },
      "source": [
        "df = pd.get_dummies(df, drop_first=True)"
      ],
      "execution_count": 410,
      "outputs": []
    },
    {
      "cell_type": "code",
      "metadata": {
        "colab": {
          "base_uri": "https://localhost:8080/",
          "height": 243
        },
        "id": "0EqgxUfliSoI",
        "outputId": "40dd78e5-7596-4d9a-8723-62b786dd860e"
      },
      "source": [
        "df.head()"
      ],
      "execution_count": 411,
      "outputs": [
        {
          "output_type": "execute_result",
          "data": {
            "text/html": [
              "<div>\n",
              "<style scoped>\n",
              "    .dataframe tbody tr th:only-of-type {\n",
              "        vertical-align: middle;\n",
              "    }\n",
              "\n",
              "    .dataframe tbody tr th {\n",
              "        vertical-align: top;\n",
              "    }\n",
              "\n",
              "    .dataframe thead th {\n",
              "        text-align: right;\n",
              "    }\n",
              "</style>\n",
              "<table border=\"1\" class=\"dataframe\">\n",
              "  <thead>\n",
              "    <tr style=\"text-align: right;\">\n",
              "      <th></th>\n",
              "      <th>Loan_Status</th>\n",
              "      <th>Gender_Male</th>\n",
              "      <th>Married_Yes</th>\n",
              "      <th>Dependents_1</th>\n",
              "      <th>Dependents_2</th>\n",
              "      <th>Dependents_3+</th>\n",
              "      <th>Education_Not Graduate</th>\n",
              "      <th>Self_Employed_Yes</th>\n",
              "      <th>Credit_History_1.0</th>\n",
              "      <th>Property_Area_Semiurban</th>\n",
              "      <th>Property_Area_Urban</th>\n",
              "    </tr>\n",
              "  </thead>\n",
              "  <tbody>\n",
              "    <tr>\n",
              "      <th>0</th>\n",
              "      <td>1</td>\n",
              "      <td>0</td>\n",
              "      <td>0</td>\n",
              "      <td>0</td>\n",
              "      <td>0</td>\n",
              "      <td>0</td>\n",
              "      <td>0</td>\n",
              "      <td>0</td>\n",
              "      <td>1</td>\n",
              "      <td>1</td>\n",
              "      <td>0</td>\n",
              "    </tr>\n",
              "    <tr>\n",
              "      <th>1</th>\n",
              "      <td>1</td>\n",
              "      <td>1</td>\n",
              "      <td>1</td>\n",
              "      <td>0</td>\n",
              "      <td>0</td>\n",
              "      <td>1</td>\n",
              "      <td>1</td>\n",
              "      <td>1</td>\n",
              "      <td>1</td>\n",
              "      <td>0</td>\n",
              "      <td>0</td>\n",
              "    </tr>\n",
              "    <tr>\n",
              "      <th>2</th>\n",
              "      <td>0</td>\n",
              "      <td>0</td>\n",
              "      <td>1</td>\n",
              "      <td>0</td>\n",
              "      <td>0</td>\n",
              "      <td>0</td>\n",
              "      <td>0</td>\n",
              "      <td>0</td>\n",
              "      <td>1</td>\n",
              "      <td>0</td>\n",
              "      <td>1</td>\n",
              "    </tr>\n",
              "    <tr>\n",
              "      <th>4</th>\n",
              "      <td>1</td>\n",
              "      <td>1</td>\n",
              "      <td>1</td>\n",
              "      <td>0</td>\n",
              "      <td>1</td>\n",
              "      <td>0</td>\n",
              "      <td>0</td>\n",
              "      <td>0</td>\n",
              "      <td>1</td>\n",
              "      <td>1</td>\n",
              "      <td>0</td>\n",
              "    </tr>\n",
              "    <tr>\n",
              "      <th>5</th>\n",
              "      <td>0</td>\n",
              "      <td>1</td>\n",
              "      <td>1</td>\n",
              "      <td>0</td>\n",
              "      <td>0</td>\n",
              "      <td>0</td>\n",
              "      <td>1</td>\n",
              "      <td>1</td>\n",
              "      <td>1</td>\n",
              "      <td>1</td>\n",
              "      <td>0</td>\n",
              "    </tr>\n",
              "  </tbody>\n",
              "</table>\n",
              "</div>"
            ],
            "text/plain": [
              "   Loan_Status  Gender_Male  ...  Property_Area_Semiurban  Property_Area_Urban\n",
              "0            1            0  ...                        1                    0\n",
              "1            1            1  ...                        0                    0\n",
              "2            0            0  ...                        0                    1\n",
              "4            1            1  ...                        1                    0\n",
              "5            0            1  ...                        1                    0\n",
              "\n",
              "[5 rows x 11 columns]"
            ]
          },
          "metadata": {
            "tags": []
          },
          "execution_count": 411
        }
      ]
    },
    {
      "cell_type": "code",
      "metadata": {
        "colab": {
          "base_uri": "https://localhost:8080/",
          "height": 527
        },
        "id": "h12CWngWiTG9",
        "outputId": "e5f4e970-3fcf-4754-ea66-47fd67668499"
      },
      "source": [
        "plt.figure(figsize=(10,6))\r\n",
        "plt.title('Correlation Matrix')\r\n",
        "sns.heatmap(df.corr(),annot=True)"
      ],
      "execution_count": 412,
      "outputs": [
        {
          "output_type": "execute_result",
          "data": {
            "text/plain": [
              "<matplotlib.axes._subplots.AxesSubplot at 0x7f5c8b498278>"
            ]
          },
          "metadata": {
            "tags": []
          },
          "execution_count": 412
        },
        {
          "output_type": "display_data",
          "data": {
            "image/png": "[encoded data removed]",
            "text/plain": [
              "<Figure size 720x432 with 2 Axes>"
            ]
          },
          "metadata": {
            "tags": [],
            "needs_background": "light"
          }
        }
      ]
    },
    {
      "cell_type": "markdown",
      "metadata": {
        "id": "pGe8lK5ZjSiw"
      },
      "source": [
        "Loan status is least correlated with self_employed_yes,education_not_graduate,dependents, property_area_Urban"
      ]
    },
    {
      "cell_type": "code",
      "metadata": {
        "id": "HsvqoqeRj0A8"
      },
      "source": [
        "df.drop(['Dependents_1','Dependents_3+','Education_Not Graduate','Self_Employed_Yes','Property_Area_Urban'], axis = 1, inplace=True)"
      ],
      "execution_count": 413,
      "outputs": []
    },
    {
      "cell_type": "code",
      "metadata": {
        "colab": {
          "base_uri": "https://localhost:8080/",
          "height": 206
        },
        "id": "rEFHEeiAksIc",
        "outputId": "e1701304-af6c-469e-9620-f0afbc806c80"
      },
      "source": [
        "df.head()"
      ],
      "execution_count": 414,
      "outputs": [
        {
          "output_type": "execute_result",
          "data": {
            "text/html": [
              "<div>\n",
              "<style scoped>\n",
              "    .dataframe tbody tr th:only-of-type {\n",
              "        vertical-align: middle;\n",
              "    }\n",
              "\n",
              "    .dataframe tbody tr th {\n",
              "        vertical-align: top;\n",
              "    }\n",
              "\n",
              "    .dataframe thead th {\n",
              "        text-align: right;\n",
              "    }\n",
              "</style>\n",
              "<table border=\"1\" class=\"dataframe\">\n",
              "  <thead>\n",
              "    <tr style=\"text-align: right;\">\n",
              "      <th></th>\n",
              "      <th>Loan_Status</th>\n",
              "      <th>Gender_Male</th>\n",
              "      <th>Married_Yes</th>\n",
              "      <th>Dependents_2</th>\n",
              "      <th>Credit_History_1.0</th>\n",
              "      <th>Property_Area_Semiurban</th>\n",
              "    </tr>\n",
              "  </thead>\n",
              "  <tbody>\n",
              "    <tr>\n",
              "      <th>0</th>\n",
              "      <td>1</td>\n",
              "      <td>0</td>\n",
              "      <td>0</td>\n",
              "      <td>0</td>\n",
              "      <td>1</td>\n",
              "      <td>1</td>\n",
              "    </tr>\n",
              "    <tr>\n",
              "      <th>1</th>\n",
              "      <td>1</td>\n",
              "      <td>1</td>\n",
              "      <td>1</td>\n",
              "      <td>0</td>\n",
              "      <td>1</td>\n",
              "      <td>0</td>\n",
              "    </tr>\n",
              "    <tr>\n",
              "      <th>2</th>\n",
              "      <td>0</td>\n",
              "      <td>0</td>\n",
              "      <td>1</td>\n",
              "      <td>0</td>\n",
              "      <td>1</td>\n",
              "      <td>0</td>\n",
              "    </tr>\n",
              "    <tr>\n",
              "      <th>4</th>\n",
              "      <td>1</td>\n",
              "      <td>1</td>\n",
              "      <td>1</td>\n",
              "      <td>1</td>\n",
              "      <td>1</td>\n",
              "      <td>1</td>\n",
              "    </tr>\n",
              "    <tr>\n",
              "      <th>5</th>\n",
              "      <td>0</td>\n",
              "      <td>1</td>\n",
              "      <td>1</td>\n",
              "      <td>0</td>\n",
              "      <td>1</td>\n",
              "      <td>1</td>\n",
              "    </tr>\n",
              "  </tbody>\n",
              "</table>\n",
              "</div>"
            ],
            "text/plain": [
              "   Loan_Status  Gender_Male  ...  Credit_History_1.0  Property_Area_Semiurban\n",
              "0            1            0  ...                   1                        1\n",
              "1            1            1  ...                   1                        0\n",
              "2            0            0  ...                   1                        0\n",
              "4            1            1  ...                   1                        1\n",
              "5            0            1  ...                   1                        1\n",
              "\n",
              "[5 rows x 6 columns]"
            ]
          },
          "metadata": {
            "tags": []
          },
          "execution_count": 414
        }
      ]
    },
    {
      "cell_type": "markdown",
      "metadata": {
        "id": "AF1itNImk8Va"
      },
      "source": [
        "#Model"
      ]
    },
    {
      "cell_type": "code",
      "metadata": {
        "id": "EDyX4qLolANq"
      },
      "source": [
        "X = df.drop(['Loan_Status'], axis =1)\r\n",
        "y = df['Loan_Status']"
      ],
      "execution_count": 415,
      "outputs": []
    },
    {
      "cell_type": "code",
      "metadata": {
        "id": "Mvc-bhVOkv4R"
      },
      "source": [
        "X_train, X_test,y_train,y_test=train_test_split(X,y,test_size=0.2,random_state=29, stratify = y)"
      ],
      "execution_count": 416,
      "outputs": []
    },
    {
      "cell_type": "code",
      "metadata": {
        "id": "fq-QmaurmYJD"
      },
      "source": [
        "def print_score(model, X_train, y_train, X_test, y_test, train= True):\r\n",
        "  if train:\r\n",
        "    pred = model.predict(X_train)\r\n",
        "    report = pd.DataFrame(classification_report(y_train, pred, output_dict=True))\r\n",
        "    print(\"Train Result:\\n================================================\")\r\n",
        "    print(f\"F1 Score: {f1_score(y_train, pred) * 100:.2f}%\")\r\n",
        "    print(\"_______________________________________________\")\r\n",
        "    print(f\"CLASSIFICATION REPORT:\\n{report}\")\r\n",
        "    print(\"_______________________________________________\")\r\n",
        "    print(f\"Confusion Matrix: \\n {confusion_matrix(y_train, pred)}\\n\")\r\n",
        "  elif train == False:\r\n",
        "    pred = model.predict(X_test)\r\n",
        "    clf_report = pd.DataFrame(classification_report(y_test, pred, output_dict=True))\r\n",
        "    print(\"Test Result:\\n================================================\")        \r\n",
        "    print(f\"F1 Score: {f1_score(y_test, pred) * 100:.2f}%\")\r\n",
        "    print(\"_______________________________________________\")\r\n",
        "    print(f\"CLASSIFICATION REPORT:\\n{clf_report}\")\r\n",
        "    print(\"_______________________________________________\")\r\n",
        "    print(f\"Confusion Matrix: \\n {confusion_matrix(y_test, pred)}\\n\")"
      ],
      "execution_count": 417,
      "outputs": []
    },
    {
      "cell_type": "code",
      "metadata": {
        "colab": {
          "base_uri": "https://localhost:8080/"
        },
        "id": "S0iA9ZhjlNAd",
        "outputId": "18ecd903-bd1c-45b5-cae7-c1e4276bc2e6"
      },
      "source": [
        "#Logistic regression\r\n",
        "lr = LogisticRegression()\r\n",
        "lr.fit(X_train, y_train)"
      ],
      "execution_count": 451,
      "outputs": [
        {
          "output_type": "execute_result",
          "data": {
            "text/plain": [
              "LogisticRegression(C=1.0, class_weight=None, dual=False, fit_intercept=True,\n",
              "                   intercept_scaling=1, l1_ratio=None, max_iter=100,\n",
              "                   multi_class='auto', n_jobs=None, penalty='l2',\n",
              "                   random_state=None, solver='lbfgs', tol=0.0001, verbose=0,\n",
              "                   warm_start=False)"
            ]
          },
          "metadata": {
            "tags": []
          },
          "execution_count": 451
        }
      ]
    },
    {
      "cell_type": "code",
      "metadata": {
        "colab": {
          "base_uri": "https://localhost:8080/",
          "height": 81
        },
        "id": "O9rTh5VzlYCq",
        "outputId": "c4ea3d70-1218-48e8-a0f8-752dd70b80bf"
      },
      "source": [
        "test_score = f1_score(y_test, lr.predict(X_test)) * 100\r\n",
        "train_score = f1_score(y_train, lr.predict(X_train)) * 100\r\n",
        "\r\n",
        "results_df = pd.DataFrame(data=[[\"Logistic regression\", train_score, test_score]], \r\n",
        "                          columns=['Model', 'Training F1 Score %', 'Testing F1 Score %'])\r\n",
        "results_df"
      ],
      "execution_count": 419,
      "outputs": [
        {
          "output_type": "execute_result",
          "data": {
            "text/html": [
              "<div>\n",
              "<style scoped>\n",
              "    .dataframe tbody tr th:only-of-type {\n",
              "        vertical-align: middle;\n",
              "    }\n",
              "\n",
              "    .dataframe tbody tr th {\n",
              "        vertical-align: top;\n",
              "    }\n",
              "\n",
              "    .dataframe thead th {\n",
              "        text-align: right;\n",
              "    }\n",
              "</style>\n",
              "<table border=\"1\" class=\"dataframe\">\n",
              "  <thead>\n",
              "    <tr style=\"text-align: right;\">\n",
              "      <th></th>\n",
              "      <th>Model</th>\n",
              "      <th>Training F1 Score %</th>\n",
              "      <th>Testing F1 Score %</th>\n",
              "    </tr>\n",
              "  </thead>\n",
              "  <tbody>\n",
              "    <tr>\n",
              "      <th>0</th>\n",
              "      <td>Logistic regression</td>\n",
              "      <td>87.5</td>\n",
              "      <td>89.051095</td>\n",
              "    </tr>\n",
              "  </tbody>\n",
              "</table>\n",
              "</div>"
            ],
            "text/plain": [
              "                 Model  Training F1 Score %  Testing F1 Score %\n",
              "0  Logistic regression                 87.5           89.051095"
            ]
          },
          "metadata": {
            "tags": []
          },
          "execution_count": 419
        }
      ]
    },
    {
      "cell_type": "code",
      "metadata": {
        "colab": {
          "base_uri": "https://localhost:8080/"
        },
        "id": "A89MYJP_mgC8",
        "outputId": "3eed950e-d174-4d11-9bd3-09088b1887e9"
      },
      "source": [
        "knc = KNeighborsClassifier()\r\n",
        "knc.fit(X_train, y_train)"
      ],
      "execution_count": 420,
      "outputs": [
        {
          "output_type": "execute_result",
          "data": {
            "text/plain": [
              "KNeighborsClassifier(algorithm='auto', leaf_size=30, metric='minkowski',\n",
              "                     metric_params=None, n_jobs=None, n_neighbors=5, p=2,\n",
              "                     weights='uniform')"
            ]
          },
          "metadata": {
            "tags": []
          },
          "execution_count": 420
        }
      ]
    },
    {
      "cell_type": "code",
      "metadata": {
        "colab": {
          "base_uri": "https://localhost:8080/",
          "height": 112
        },
        "id": "ieQqQx25ms1x",
        "outputId": "862d193b-aa69-4709-e857-daf6bb48b0f1"
      },
      "source": [
        "test_score = f1_score(y_test, knc.predict(X_test)) * 100\r\n",
        "train_score = f1_score(y_train, knc.predict(X_train)) * 100\r\n",
        "\r\n",
        "results_df2 = pd.DataFrame(data=[[\"K-Neighbors Classifier\", train_score, test_score]], \r\n",
        "                          columns=['Model', 'Training F1 Score %', 'Testing F1 Score %'])\r\n",
        "results_df = results_df.append(results_df2,ignore_index=True)\r\n",
        "results_df"
      ],
      "execution_count": 421,
      "outputs": [
        {
          "output_type": "execute_result",
          "data": {
            "text/html": [
              "<div>\n",
              "<style scoped>\n",
              "    .dataframe tbody tr th:only-of-type {\n",
              "        vertical-align: middle;\n",
              "    }\n",
              "\n",
              "    .dataframe tbody tr th {\n",
              "        vertical-align: top;\n",
              "    }\n",
              "\n",
              "    .dataframe thead th {\n",
              "        text-align: right;\n",
              "    }\n",
              "</style>\n",
              "<table border=\"1\" class=\"dataframe\">\n",
              "  <thead>\n",
              "    <tr style=\"text-align: right;\">\n",
              "      <th></th>\n",
              "      <th>Model</th>\n",
              "      <th>Training F1 Score %</th>\n",
              "      <th>Testing F1 Score %</th>\n",
              "    </tr>\n",
              "  </thead>\n",
              "  <tbody>\n",
              "    <tr>\n",
              "      <th>0</th>\n",
              "      <td>Logistic regression</td>\n",
              "      <td>87.500000</td>\n",
              "      <td>89.051095</td>\n",
              "    </tr>\n",
              "    <tr>\n",
              "      <th>1</th>\n",
              "      <td>K-Neighbors Classifier</td>\n",
              "      <td>85.490196</td>\n",
              "      <td>79.674797</td>\n",
              "    </tr>\n",
              "  </tbody>\n",
              "</table>\n",
              "</div>"
            ],
            "text/plain": [
              "                    Model  Training F1 Score %  Testing F1 Score %\n",
              "0     Logistic regression            87.500000           89.051095\n",
              "1  K-Neighbors Classifier            85.490196           79.674797"
            ]
          },
          "metadata": {
            "tags": []
          },
          "execution_count": 421
        }
      ]
    },
    {
      "cell_type": "code",
      "metadata": {
        "colab": {
          "base_uri": "https://localhost:8080/"
        },
        "id": "ybr2X1uRmviY",
        "outputId": "813d04f2-0497-4ccb-a7e6-aeb051656eb5"
      },
      "source": [
        "rfc = RandomForestClassifier(max_depth=5)\r\n",
        "rfc.fit(X_train, y_train)"
      ],
      "execution_count": 422,
      "outputs": [
        {
          "output_type": "execute_result",
          "data": {
            "text/plain": [
              "RandomForestClassifier(bootstrap=True, ccp_alpha=0.0, class_weight=None,\n",
              "                       criterion='gini', max_depth=5, max_features='auto',\n",
              "                       max_leaf_nodes=None, max_samples=None,\n",
              "                       min_impurity_decrease=0.0, min_impurity_split=None,\n",
              "                       min_samples_leaf=1, min_samples_split=2,\n",
              "                       min_weight_fraction_leaf=0.0, n_estimators=100,\n",
              "                       n_jobs=None, oob_score=False, random_state=None,\n",
              "                       verbose=0, warm_start=False)"
            ]
          },
          "metadata": {
            "tags": []
          },
          "execution_count": 422
        }
      ]
    },
    {
      "cell_type": "code",
      "metadata": {
        "colab": {
          "base_uri": "https://localhost:8080/",
          "height": 143
        },
        "id": "5fL7SbfFnT7Y",
        "outputId": "376ad3fe-6bfb-4967-9065-56041cc2a868"
      },
      "source": [
        "test_score = f1_score(y_test, rfc.predict(X_test)) * 100\r\n",
        "train_score = f1_score(y_train, rfc.predict(X_train)) * 100\r\n",
        "\r\n",
        "results_df3 = pd.DataFrame(data=[[\"Random Forest Classification\", train_score, test_score]], \r\n",
        "                          columns=['Model', 'Training F1 Score %', 'Testing F1 Score %'])\r\n",
        "results_df = results_df.append(results_df3,ignore_index=True)\r\n",
        "results_df"
      ],
      "execution_count": 423,
      "outputs": [
        {
          "output_type": "execute_result",
          "data": {
            "text/html": [
              "<div>\n",
              "<style scoped>\n",
              "    .dataframe tbody tr th:only-of-type {\n",
              "        vertical-align: middle;\n",
              "    }\n",
              "\n",
              "    .dataframe tbody tr th {\n",
              "        vertical-align: top;\n",
              "    }\n",
              "\n",
              "    .dataframe thead th {\n",
              "        text-align: right;\n",
              "    }\n",
              "</style>\n",
              "<table border=\"1\" class=\"dataframe\">\n",
              "  <thead>\n",
              "    <tr style=\"text-align: right;\">\n",
              "      <th></th>\n",
              "      <th>Model</th>\n",
              "      <th>Training F1 Score %</th>\n",
              "      <th>Testing F1 Score %</th>\n",
              "    </tr>\n",
              "  </thead>\n",
              "  <tbody>\n",
              "    <tr>\n",
              "      <th>0</th>\n",
              "      <td>Logistic regression</td>\n",
              "      <td>87.500000</td>\n",
              "      <td>89.051095</td>\n",
              "    </tr>\n",
              "    <tr>\n",
              "      <th>1</th>\n",
              "      <td>K-Neighbors Classifier</td>\n",
              "      <td>85.490196</td>\n",
              "      <td>79.674797</td>\n",
              "    </tr>\n",
              "    <tr>\n",
              "      <th>2</th>\n",
              "      <td>Random Forest Classification</td>\n",
              "      <td>87.777778</td>\n",
              "      <td>87.407407</td>\n",
              "    </tr>\n",
              "  </tbody>\n",
              "</table>\n",
              "</div>"
            ],
            "text/plain": [
              "                          Model  Training F1 Score %  Testing F1 Score %\n",
              "0           Logistic regression            87.500000           89.051095\n",
              "1        K-Neighbors Classifier            85.490196           79.674797\n",
              "2  Random Forest Classification            87.777778           87.407407"
            ]
          },
          "metadata": {
            "tags": []
          },
          "execution_count": 423
        }
      ]
    },
    {
      "cell_type": "code",
      "metadata": {
        "colab": {
          "base_uri": "https://localhost:8080/"
        },
        "id": "26ZXT9ttnfKO",
        "outputId": "7e42da0f-722c-41e9-bc1d-edc517d08e12"
      },
      "source": [
        "svc = SVC()\r\n",
        "svc.fit(X_train, y_train)"
      ],
      "execution_count": 424,
      "outputs": [
        {
          "output_type": "execute_result",
          "data": {
            "text/plain": [
              "SVC(C=1.0, break_ties=False, cache_size=200, class_weight=None, coef0=0.0,\n",
              "    decision_function_shape='ovr', degree=3, gamma='scale', kernel='rbf',\n",
              "    max_iter=-1, probability=False, random_state=None, shrinking=True,\n",
              "    tol=0.001, verbose=False)"
            ]
          },
          "metadata": {
            "tags": []
          },
          "execution_count": 424
        }
      ]
    },
    {
      "cell_type": "code",
      "metadata": {
        "colab": {
          "base_uri": "https://localhost:8080/",
          "height": 175
        },
        "id": "xyKlm5g8niwd",
        "outputId": "7988539d-d6ee-4dbe-a5c9-0febf26dfd43"
      },
      "source": [
        "test_score = f1_score(y_test, svc.predict(X_test)) * 100\r\n",
        "train_score = f1_score(y_train, svc.predict(X_train)) * 100\r\n",
        "\r\n",
        "results_df4 = pd.DataFrame(data=[[\"Support Vector Classifier\", train_score, test_score]], \r\n",
        "                          columns=['Model', 'Training F1 Score %', 'Testing F1 Score %'])\r\n",
        "results_df = results_df.append(results_df4,ignore_index=True)\r\n",
        "results_df"
      ],
      "execution_count": 425,
      "outputs": [
        {
          "output_type": "execute_result",
          "data": {
            "text/html": [
              "<div>\n",
              "<style scoped>\n",
              "    .dataframe tbody tr th:only-of-type {\n",
              "        vertical-align: middle;\n",
              "    }\n",
              "\n",
              "    .dataframe tbody tr th {\n",
              "        vertical-align: top;\n",
              "    }\n",
              "\n",
              "    .dataframe thead th {\n",
              "        text-align: right;\n",
              "    }\n",
              "</style>\n",
              "<table border=\"1\" class=\"dataframe\">\n",
              "  <thead>\n",
              "    <tr style=\"text-align: right;\">\n",
              "      <th></th>\n",
              "      <th>Model</th>\n",
              "      <th>Training F1 Score %</th>\n",
              "      <th>Testing F1 Score %</th>\n",
              "    </tr>\n",
              "  </thead>\n",
              "  <tbody>\n",
              "    <tr>\n",
              "      <th>0</th>\n",
              "      <td>Logistic regression</td>\n",
              "      <td>87.500000</td>\n",
              "      <td>89.051095</td>\n",
              "    </tr>\n",
              "    <tr>\n",
              "      <th>1</th>\n",
              "      <td>K-Neighbors Classifier</td>\n",
              "      <td>85.490196</td>\n",
              "      <td>79.674797</td>\n",
              "    </tr>\n",
              "    <tr>\n",
              "      <th>2</th>\n",
              "      <td>Random Forest Classification</td>\n",
              "      <td>87.777778</td>\n",
              "      <td>87.407407</td>\n",
              "    </tr>\n",
              "    <tr>\n",
              "      <th>3</th>\n",
              "      <td>Support Vector Classifier</td>\n",
              "      <td>87.777778</td>\n",
              "      <td>87.407407</td>\n",
              "    </tr>\n",
              "  </tbody>\n",
              "</table>\n",
              "</div>"
            ],
            "text/plain": [
              "                          Model  Training F1 Score %  Testing F1 Score %\n",
              "0           Logistic regression            87.500000           89.051095\n",
              "1        K-Neighbors Classifier            85.490196           79.674797\n",
              "2  Random Forest Classification            87.777778           87.407407\n",
              "3     Support Vector Classifier            87.777778           87.407407"
            ]
          },
          "metadata": {
            "tags": []
          },
          "execution_count": 425
        }
      ]
    },
    {
      "cell_type": "code",
      "metadata": {
        "colab": {
          "base_uri": "https://localhost:8080/"
        },
        "id": "aw54GkbLnkYq",
        "outputId": "116142a4-4054-4604-9aef-a415167e995d"
      },
      "source": [
        "tree = DecisionTreeClassifier(random_state = 2)\r\n",
        "tree.fit(X_train, y_train)"
      ],
      "execution_count": 426,
      "outputs": [
        {
          "output_type": "execute_result",
          "data": {
            "text/plain": [
              "DecisionTreeClassifier(ccp_alpha=0.0, class_weight=None, criterion='gini',\n",
              "                       max_depth=None, max_features=None, max_leaf_nodes=None,\n",
              "                       min_impurity_decrease=0.0, min_impurity_split=None,\n",
              "                       min_samples_leaf=1, min_samples_split=2,\n",
              "                       min_weight_fraction_leaf=0.0, presort='deprecated',\n",
              "                       random_state=2, splitter='best')"
            ]
          },
          "metadata": {
            "tags": []
          },
          "execution_count": 426
        }
      ]
    },
    {
      "cell_type": "code",
      "metadata": {
        "colab": {
          "base_uri": "https://localhost:8080/",
          "height": 206
        },
        "id": "jEaHILXanqWk",
        "outputId": "0d83c1ed-bf8d-40ae-a7df-229a87ebeff2"
      },
      "source": [
        "test_score = f1_score(y_test, tree.predict(X_test)) * 100\r\n",
        "train_score = f1_score(y_train, tree.predict(X_train)) * 100\r\n",
        "\r\n",
        "results_df5 = pd.DataFrame(data=[[\"Decision Tree Classifier\", train_score, test_score]], \r\n",
        "                          columns=['Model', 'Training F1 Score %', 'Testing F1 Score %'])\r\n",
        "results_df = results_df.append(results_df5,ignore_index=True)\r\n",
        "results_df"
      ],
      "execution_count": 427,
      "outputs": [
        {
          "output_type": "execute_result",
          "data": {
            "text/html": [
              "<div>\n",
              "<style scoped>\n",
              "    .dataframe tbody tr th:only-of-type {\n",
              "        vertical-align: middle;\n",
              "    }\n",
              "\n",
              "    .dataframe tbody tr th {\n",
              "        vertical-align: top;\n",
              "    }\n",
              "\n",
              "    .dataframe thead th {\n",
              "        text-align: right;\n",
              "    }\n",
              "</style>\n",
              "<table border=\"1\" class=\"dataframe\">\n",
              "  <thead>\n",
              "    <tr style=\"text-align: right;\">\n",
              "      <th></th>\n",
              "      <th>Model</th>\n",
              "      <th>Training F1 Score %</th>\n",
              "      <th>Testing F1 Score %</th>\n",
              "    </tr>\n",
              "  </thead>\n",
              "  <tbody>\n",
              "    <tr>\n",
              "      <th>0</th>\n",
              "      <td>Logistic regression</td>\n",
              "      <td>87.500000</td>\n",
              "      <td>89.051095</td>\n",
              "    </tr>\n",
              "    <tr>\n",
              "      <th>1</th>\n",
              "      <td>K-Neighbors Classifier</td>\n",
              "      <td>85.490196</td>\n",
              "      <td>79.674797</td>\n",
              "    </tr>\n",
              "    <tr>\n",
              "      <th>2</th>\n",
              "      <td>Random Forest Classification</td>\n",
              "      <td>87.777778</td>\n",
              "      <td>87.407407</td>\n",
              "    </tr>\n",
              "    <tr>\n",
              "      <th>3</th>\n",
              "      <td>Support Vector Classifier</td>\n",
              "      <td>87.777778</td>\n",
              "      <td>87.407407</td>\n",
              "    </tr>\n",
              "    <tr>\n",
              "      <th>4</th>\n",
              "      <td>Decision Tree Classifier</td>\n",
              "      <td>87.732342</td>\n",
              "      <td>87.407407</td>\n",
              "    </tr>\n",
              "  </tbody>\n",
              "</table>\n",
              "</div>"
            ],
            "text/plain": [
              "                          Model  Training F1 Score %  Testing F1 Score %\n",
              "0           Logistic regression            87.500000           89.051095\n",
              "1        K-Neighbors Classifier            85.490196           79.674797\n",
              "2  Random Forest Classification            87.777778           87.407407\n",
              "3     Support Vector Classifier            87.777778           87.407407\n",
              "4      Decision Tree Classifier            87.732342           87.407407"
            ]
          },
          "metadata": {
            "tags": []
          },
          "execution_count": 427
        }
      ]
    },
    {
      "cell_type": "code",
      "metadata": {
        "colab": {
          "base_uri": "https://localhost:8080/"
        },
        "id": "_iBAYqSlnsJc",
        "outputId": "c048d214-ade9-494c-fd0f-026462ff292a"
      },
      "source": [
        "xgb = XGBClassifier()\r\n",
        "xgb.fit(X_train, y_train)"
      ],
      "execution_count": 428,
      "outputs": [
        {
          "output_type": "execute_result",
          "data": {
            "text/plain": [
              "XGBClassifier(base_score=0.5, booster='gbtree', colsample_bylevel=1,\n",
              "              colsample_bynode=1, colsample_bytree=1, gamma=0,\n",
              "              learning_rate=0.1, max_delta_step=0, max_depth=3,\n",
              "              min_child_weight=1, missing=None, n_estimators=100, n_jobs=1,\n",
              "              nthread=None, objective='binary:logistic', random_state=0,\n",
              "              reg_alpha=0, reg_lambda=1, scale_pos_weight=1, seed=None,\n",
              "              silent=None, subsample=1, verbosity=1)"
            ]
          },
          "metadata": {
            "tags": []
          },
          "execution_count": 428
        }
      ]
    },
    {
      "cell_type": "code",
      "metadata": {
        "colab": {
          "base_uri": "https://localhost:8080/",
          "height": 237
        },
        "id": "ELc8GJKmnzWZ",
        "outputId": "2a56446b-1b8e-40ce-9a04-ab744672dc02"
      },
      "source": [
        "test_score = f1_score(y_test, xgb.predict(X_test)) * 100\r\n",
        "train_score = f1_score(y_train, xgb.predict(X_train)) * 100\r\n",
        "\r\n",
        "results_df6 = pd.DataFrame(data=[[\"XGBoost Classifier\", train_score, test_score]], \r\n",
        "                          columns=['Model', 'Training F1 Score %', 'Testing F1 Score %'])\r\n",
        "results_df = results_df.append(results_df6,ignore_index=True)\r\n",
        "results_df"
      ],
      "execution_count": 429,
      "outputs": [
        {
          "output_type": "execute_result",
          "data": {
            "text/html": [
              "<div>\n",
              "<style scoped>\n",
              "    .dataframe tbody tr th:only-of-type {\n",
              "        vertical-align: middle;\n",
              "    }\n",
              "\n",
              "    .dataframe tbody tr th {\n",
              "        vertical-align: top;\n",
              "    }\n",
              "\n",
              "    .dataframe thead th {\n",
              "        text-align: right;\n",
              "    }\n",
              "</style>\n",
              "<table border=\"1\" class=\"dataframe\">\n",
              "  <thead>\n",
              "    <tr style=\"text-align: right;\">\n",
              "      <th></th>\n",
              "      <th>Model</th>\n",
              "      <th>Training F1 Score %</th>\n",
              "      <th>Testing F1 Score %</th>\n",
              "    </tr>\n",
              "  </thead>\n",
              "  <tbody>\n",
              "    <tr>\n",
              "      <th>0</th>\n",
              "      <td>Logistic regression</td>\n",
              "      <td>87.500000</td>\n",
              "      <td>89.051095</td>\n",
              "    </tr>\n",
              "    <tr>\n",
              "      <th>1</th>\n",
              "      <td>K-Neighbors Classifier</td>\n",
              "      <td>85.490196</td>\n",
              "      <td>79.674797</td>\n",
              "    </tr>\n",
              "    <tr>\n",
              "      <th>2</th>\n",
              "      <td>Random Forest Classification</td>\n",
              "      <td>87.777778</td>\n",
              "      <td>87.407407</td>\n",
              "    </tr>\n",
              "    <tr>\n",
              "      <th>3</th>\n",
              "      <td>Support Vector Classifier</td>\n",
              "      <td>87.777778</td>\n",
              "      <td>87.407407</td>\n",
              "    </tr>\n",
              "    <tr>\n",
              "      <th>4</th>\n",
              "      <td>Decision Tree Classifier</td>\n",
              "      <td>87.732342</td>\n",
              "      <td>87.407407</td>\n",
              "    </tr>\n",
              "    <tr>\n",
              "      <th>5</th>\n",
              "      <td>XGBoost Classifier</td>\n",
              "      <td>87.732342</td>\n",
              "      <td>87.407407</td>\n",
              "    </tr>\n",
              "  </tbody>\n",
              "</table>\n",
              "</div>"
            ],
            "text/plain": [
              "                          Model  Training F1 Score %  Testing F1 Score %\n",
              "0           Logistic regression            87.500000           89.051095\n",
              "1        K-Neighbors Classifier            85.490196           79.674797\n",
              "2  Random Forest Classification            87.777778           87.407407\n",
              "3     Support Vector Classifier            87.777778           87.407407\n",
              "4      Decision Tree Classifier            87.732342           87.407407\n",
              "5            XGBoost Classifier            87.732342           87.407407"
            ]
          },
          "metadata": {
            "tags": []
          },
          "execution_count": 429
        }
      ]
    },
    {
      "cell_type": "code",
      "metadata": {
        "colab": {
          "base_uri": "https://localhost:8080/"
        },
        "id": "LVuWqYFOn1IX",
        "outputId": "81430934-8fce-421d-e273-c6f423e1e63a"
      },
      "source": [
        "sgd = SGDClassifier()\r\n",
        "sgd.fit(X_train, y_train)"
      ],
      "execution_count": 430,
      "outputs": [
        {
          "output_type": "execute_result",
          "data": {
            "text/plain": [
              "SGDClassifier(alpha=0.0001, average=False, class_weight=None,\n",
              "              early_stopping=False, epsilon=0.1, eta0=0.0, fit_intercept=True,\n",
              "              l1_ratio=0.15, learning_rate='optimal', loss='hinge',\n",
              "              max_iter=1000, n_iter_no_change=5, n_jobs=None, penalty='l2',\n",
              "              power_t=0.5, random_state=None, shuffle=True, tol=0.001,\n",
              "              validation_fraction=0.1, verbose=0, warm_start=False)"
            ]
          },
          "metadata": {
            "tags": []
          },
          "execution_count": 430
        }
      ]
    },
    {
      "cell_type": "code",
      "metadata": {
        "colab": {
          "base_uri": "https://localhost:8080/",
          "height": 269
        },
        "id": "AHpm9e0Bn4AQ",
        "outputId": "288bae29-1205-4b12-f72e-44095f9ed2a7"
      },
      "source": [
        "test_score = f1_score(y_test, sgd.predict(X_test)) * 100\r\n",
        "train_score = f1_score(y_train, sgd.predict(X_train)) * 100\r\n",
        "\r\n",
        "results_df7 = pd.DataFrame(data=[[\"Stochastic Gradient Descent\", train_score, test_score]], \r\n",
        "                          columns=['Model', 'Training F1 Score %', 'Testing F1 Score %'])\r\n",
        "results_df = results_df.append(results_df7,ignore_index=True)\r\n",
        "results_df"
      ],
      "execution_count": 431,
      "outputs": [
        {
          "output_type": "execute_result",
          "data": {
            "text/html": [
              "<div>\n",
              "<style scoped>\n",
              "    .dataframe tbody tr th:only-of-type {\n",
              "        vertical-align: middle;\n",
              "    }\n",
              "\n",
              "    .dataframe tbody tr th {\n",
              "        vertical-align: top;\n",
              "    }\n",
              "\n",
              "    .dataframe thead th {\n",
              "        text-align: right;\n",
              "    }\n",
              "</style>\n",
              "<table border=\"1\" class=\"dataframe\">\n",
              "  <thead>\n",
              "    <tr style=\"text-align: right;\">\n",
              "      <th></th>\n",
              "      <th>Model</th>\n",
              "      <th>Training F1 Score %</th>\n",
              "      <th>Testing F1 Score %</th>\n",
              "    </tr>\n",
              "  </thead>\n",
              "  <tbody>\n",
              "    <tr>\n",
              "      <th>0</th>\n",
              "      <td>Logistic regression</td>\n",
              "      <td>87.500000</td>\n",
              "      <td>89.051095</td>\n",
              "    </tr>\n",
              "    <tr>\n",
              "      <th>1</th>\n",
              "      <td>K-Neighbors Classifier</td>\n",
              "      <td>85.490196</td>\n",
              "      <td>79.674797</td>\n",
              "    </tr>\n",
              "    <tr>\n",
              "      <th>2</th>\n",
              "      <td>Random Forest Classification</td>\n",
              "      <td>87.777778</td>\n",
              "      <td>87.407407</td>\n",
              "    </tr>\n",
              "    <tr>\n",
              "      <th>3</th>\n",
              "      <td>Support Vector Classifier</td>\n",
              "      <td>87.777778</td>\n",
              "      <td>87.407407</td>\n",
              "    </tr>\n",
              "    <tr>\n",
              "      <th>4</th>\n",
              "      <td>Decision Tree Classifier</td>\n",
              "      <td>87.732342</td>\n",
              "      <td>87.407407</td>\n",
              "    </tr>\n",
              "    <tr>\n",
              "      <th>5</th>\n",
              "      <td>XGBoost Classifier</td>\n",
              "      <td>87.732342</td>\n",
              "      <td>87.407407</td>\n",
              "    </tr>\n",
              "    <tr>\n",
              "      <th>6</th>\n",
              "      <td>Stochastic Gradient Descent</td>\n",
              "      <td>85.214008</td>\n",
              "      <td>81.600000</td>\n",
              "    </tr>\n",
              "  </tbody>\n",
              "</table>\n",
              "</div>"
            ],
            "text/plain": [
              "                          Model  Training F1 Score %  Testing F1 Score %\n",
              "0           Logistic regression            87.500000           89.051095\n",
              "1        K-Neighbors Classifier            85.490196           79.674797\n",
              "2  Random Forest Classification            87.777778           87.407407\n",
              "3     Support Vector Classifier            87.777778           87.407407\n",
              "4      Decision Tree Classifier            87.732342           87.407407\n",
              "5            XGBoost Classifier            87.732342           87.407407\n",
              "6   Stochastic Gradient Descent            85.214008           81.600000"
            ]
          },
          "metadata": {
            "tags": []
          },
          "execution_count": 431
        }
      ]
    },
    {
      "cell_type": "markdown",
      "metadata": {
        "id": "QRszke59ondH"
      },
      "source": [
        "#Tuning model"
      ]
    },
    {
      "cell_type": "code",
      "metadata": {
        "colab": {
          "base_uri": "https://localhost:8080/"
        },
        "id": "VPY0rItQt9Nh",
        "outputId": "22d2fe20-017e-4b94-b62e-90af3e712643"
      },
      "source": [
        "params = {'C': np.logspace(-4, 4, 20),\r\n",
        "          'solver': ['newton-cg', 'lbfgs', 'liblinear', 'sag', 'saga']}\r\n",
        "\r\n",
        "lr = LogisticRegression()\r\n",
        "\r\n",
        "lr_cv = GridSearchCV(lr, params, scoring='f1', n_jobs=-1, verbose = 1, cv=5, iid=True)\r\n",
        "lr_cv.fit(X_train, y_train)\r\n",
        "best_params = lr_cv.best_params_\r\n",
        "print(f\"Best Params: {lr_cv.best_params_}\")\r\n",
        "\r\n",
        "lr2 = LogisticRegression(**best_params)\r\n",
        "lr2.fit(X_train, y_train)\r\n",
        "\r\n",
        "print_score(lr2, X_train, y_train, X_test, y_test, train=True)\r\n",
        "print_score(lr2, X_train, y_train, X_test, y_test, train=False)"
      ],
      "execution_count": 432,
      "outputs": [
        {
          "output_type": "stream",
          "text": [
            "Fitting 5 folds for each of 100 candidates, totalling 500 fits\n"
          ],
          "name": "stdout"
        },
        {
          "output_type": "stream",
          "text": [
            "[Parallel(n_jobs=-1)]: Using backend LokyBackend with 2 concurrent workers.\n",
            "[Parallel(n_jobs=-1)]: Done 464 tasks      | elapsed:    3.5s\n"
          ],
          "name": "stderr"
        },
        {
          "output_type": "stream",
          "text": [
            "Best Params: {'C': 0.23357214690901212, 'solver': 'newton-cg'}\n",
            "Train Result:\n",
            "================================================\n",
            "F1 Score: 87.50%\n",
            "_______________________________________________\n",
            "CLASSIFICATION REPORT:\n",
            "                    0           1  accuracy   macro avg  weighted avg\n",
            "precision    0.866667    0.793333  0.802899    0.830000      0.814802\n",
            "recall       0.386139    0.975410  0.802899    0.680774      0.802899\n",
            "f1-score     0.534247    0.875000  0.802899    0.704623      0.775243\n",
            "support    101.000000  244.000000  0.802899  345.000000    345.000000\n",
            "_______________________________________________\n",
            "Confusion Matrix: \n",
            " [[ 39  62]\n",
            " [  6 238]]\n",
            "\n",
            "Test Result:\n",
            "================================================\n",
            "F1 Score: 89.05%\n",
            "_______________________________________________\n",
            "CLASSIFICATION REPORT:\n",
            "                   0          1  accuracy  macro avg  weighted avg\n",
            "precision   1.000000   0.802632  0.827586   0.901316      0.861615\n",
            "recall      0.423077   1.000000  0.827586   0.711538      0.827586\n",
            "f1-score    0.594595   0.890511  0.827586   0.742553      0.802076\n",
            "support    26.000000  61.000000  0.827586  87.000000     87.000000\n",
            "_______________________________________________\n",
            "Confusion Matrix: \n",
            " [[11 15]\n",
            " [ 0 61]]\n",
            "\n"
          ],
          "name": "stdout"
        },
        {
          "output_type": "stream",
          "text": [
            "[Parallel(n_jobs=-1)]: Done 500 out of 500 | elapsed:    3.7s finished\n",
            "/usr/local/lib/python3.6/dist-packages/sklearn/model_selection/_search.py:823: FutureWarning: The parameter 'iid' is deprecated in 0.22 and will be removed in 0.24.\n",
            "  \"removed in 0.24.\", FutureWarning\n"
          ],
          "name": "stderr"
        }
      ]
    },
    {
      "cell_type": "code",
      "metadata": {
        "id": "3YnPaymfoETI"
      },
      "source": [
        "train_score = []\r\n",
        "test_score = []\r\n",
        "neighbors = range(1, 30)\r\n",
        "\r\n",
        "for k in neighbors:\r\n",
        "    model = KNeighborsClassifier(n_neighbors=k)\r\n",
        "    model.fit(X_train, y_train)\r\n",
        "    train_score.append(f1_score(y_train, model.predict(X_train)))\r\n",
        "#     test_score.append(accuracy_score(y_test, model.predict(X_test)))"
      ],
      "execution_count": 433,
      "outputs": []
    },
    {
      "cell_type": "code",
      "metadata": {
        "colab": {
          "base_uri": "https://localhost:8080/"
        },
        "id": "zSBP0xAUpD_4",
        "outputId": "11f7ea98-8d26-41e0-b904-f80eb11dd3c1"
      },
      "source": [
        "knc2 = KNeighborsClassifier(n_neighbors=27)\r\n",
        "knc2.fit(X_train, y_train)\r\n",
        "\r\n",
        "print_score(knc2, X_train, y_train, X_test, y_test, train=True)\r\n",
        "print_score(knc2, X_train, y_train, X_test, y_test, train=False)"
      ],
      "execution_count": 434,
      "outputs": [
        {
          "output_type": "stream",
          "text": [
            "Train Result:\n",
            "================================================\n",
            "F1 Score: 86.49%\n",
            "_______________________________________________\n",
            "CLASSIFICATION REPORT:\n",
            "                    0           1  accuracy   macro avg  weighted avg\n",
            "precision    0.882353    0.771704  0.782609    0.827029      0.804097\n",
            "recall       0.297030    0.983607  0.782609    0.640318      0.782609\n",
            "f1-score     0.444444    0.864865  0.782609    0.654655      0.741785\n",
            "support    101.000000  244.000000  0.782609  345.000000    345.000000\n",
            "_______________________________________________\n",
            "Confusion Matrix: \n",
            " [[ 30  71]\n",
            " [  4 240]]\n",
            "\n",
            "Test Result:\n",
            "================================================\n",
            "F1 Score: 85.92%\n",
            "_______________________________________________\n",
            "CLASSIFICATION REPORT:\n",
            "                   0          1  accuracy  macro avg  weighted avg\n",
            "precision   1.000000   0.753086  0.770115   0.876543      0.826877\n",
            "recall      0.230769   1.000000  0.770115   0.615385      0.770115\n",
            "f1-score    0.375000   0.859155  0.770115   0.617077      0.714465\n",
            "support    26.000000  61.000000  0.770115  87.000000     87.000000\n",
            "_______________________________________________\n",
            "Confusion Matrix: \n",
            " [[ 6 20]\n",
            " [ 0 61]]\n",
            "\n"
          ],
          "name": "stdout"
        }
      ]
    },
    {
      "cell_type": "markdown",
      "metadata": {
        "id": "8b8ydAiwpQVJ"
      },
      "source": [
        "#Test"
      ]
    },
    {
      "cell_type": "code",
      "metadata": {
        "colab": {
          "base_uri": "https://localhost:8080/",
          "height": 278
        },
        "id": "m92sa5FRpI-y",
        "outputId": "7447a0ee-ddb3-4896-fd87-dd89d8bf3fb2"
      },
      "source": [
        "test = pd.read_csv('https://raw.githubusercontent.com/dphi-official/Datasets/master/Loan_Data/loan_test.csv')\r\n",
        "test.head()"
      ],
      "execution_count": 442,
      "outputs": [
        {
          "output_type": "execute_result",
          "data": {
            "text/html": [
              "<div>\n",
              "<style scoped>\n",
              "    .dataframe tbody tr th:only-of-type {\n",
              "        vertical-align: middle;\n",
              "    }\n",
              "\n",
              "    .dataframe tbody tr th {\n",
              "        vertical-align: top;\n",
              "    }\n",
              "\n",
              "    .dataframe thead th {\n",
              "        text-align: right;\n",
              "    }\n",
              "</style>\n",
              "<table border=\"1\" class=\"dataframe\">\n",
              "  <thead>\n",
              "    <tr style=\"text-align: right;\">\n",
              "      <th></th>\n",
              "      <th>Loan_ID</th>\n",
              "      <th>Gender</th>\n",
              "      <th>Married</th>\n",
              "      <th>Dependents</th>\n",
              "      <th>Education</th>\n",
              "      <th>Self_Employed</th>\n",
              "      <th>ApplicantIncome</th>\n",
              "      <th>CoapplicantIncome</th>\n",
              "      <th>LoanAmount</th>\n",
              "      <th>Loan_Amount_Term</th>\n",
              "      <th>Credit_History</th>\n",
              "      <th>Property_Area</th>\n",
              "    </tr>\n",
              "  </thead>\n",
              "  <tbody>\n",
              "    <tr>\n",
              "      <th>0</th>\n",
              "      <td>LP001116</td>\n",
              "      <td>Male</td>\n",
              "      <td>No</td>\n",
              "      <td>0</td>\n",
              "      <td>Not Graduate</td>\n",
              "      <td>No</td>\n",
              "      <td>3748</td>\n",
              "      <td>1668.0</td>\n",
              "      <td>110.0</td>\n",
              "      <td>360.0</td>\n",
              "      <td>1.0</td>\n",
              "      <td>Semiurban</td>\n",
              "    </tr>\n",
              "    <tr>\n",
              "      <th>1</th>\n",
              "      <td>LP001488</td>\n",
              "      <td>Male</td>\n",
              "      <td>Yes</td>\n",
              "      <td>3+</td>\n",
              "      <td>Graduate</td>\n",
              "      <td>No</td>\n",
              "      <td>4000</td>\n",
              "      <td>7750.0</td>\n",
              "      <td>290.0</td>\n",
              "      <td>360.0</td>\n",
              "      <td>1.0</td>\n",
              "      <td>Semiurban</td>\n",
              "    </tr>\n",
              "    <tr>\n",
              "      <th>2</th>\n",
              "      <td>LP002138</td>\n",
              "      <td>Male</td>\n",
              "      <td>Yes</td>\n",
              "      <td>0</td>\n",
              "      <td>Graduate</td>\n",
              "      <td>No</td>\n",
              "      <td>2625</td>\n",
              "      <td>6250.0</td>\n",
              "      <td>187.0</td>\n",
              "      <td>360.0</td>\n",
              "      <td>1.0</td>\n",
              "      <td>Rural</td>\n",
              "    </tr>\n",
              "    <tr>\n",
              "      <th>3</th>\n",
              "      <td>LP002284</td>\n",
              "      <td>Male</td>\n",
              "      <td>No</td>\n",
              "      <td>0</td>\n",
              "      <td>Not Graduate</td>\n",
              "      <td>No</td>\n",
              "      <td>3902</td>\n",
              "      <td>1666.0</td>\n",
              "      <td>109.0</td>\n",
              "      <td>360.0</td>\n",
              "      <td>1.0</td>\n",
              "      <td>Rural</td>\n",
              "    </tr>\n",
              "    <tr>\n",
              "      <th>4</th>\n",
              "      <td>LP002328</td>\n",
              "      <td>Male</td>\n",
              "      <td>Yes</td>\n",
              "      <td>0</td>\n",
              "      <td>Not Graduate</td>\n",
              "      <td>No</td>\n",
              "      <td>6096</td>\n",
              "      <td>0.0</td>\n",
              "      <td>218.0</td>\n",
              "      <td>360.0</td>\n",
              "      <td>0.0</td>\n",
              "      <td>Rural</td>\n",
              "    </tr>\n",
              "  </tbody>\n",
              "</table>\n",
              "</div>"
            ],
            "text/plain": [
              "    Loan_ID Gender Married  ... Loan_Amount_Term Credit_History Property_Area\n",
              "0  LP001116   Male      No  ...            360.0            1.0     Semiurban\n",
              "1  LP001488   Male     Yes  ...            360.0            1.0     Semiurban\n",
              "2  LP002138   Male     Yes  ...            360.0            1.0         Rural\n",
              "3  LP002284   Male      No  ...            360.0            1.0         Rural\n",
              "4  LP002328   Male     Yes  ...            360.0            0.0         Rural\n",
              "\n",
              "[5 rows x 12 columns]"
            ]
          },
          "metadata": {
            "tags": []
          },
          "execution_count": 442
        }
      ]
    },
    {
      "cell_type": "code",
      "metadata": {
        "colab": {
          "base_uri": "https://localhost:8080/"
        },
        "id": "aNGFpiLjpWRU",
        "outputId": "addbe7aa-baa1-411d-f81c-6f324edac0c2"
      },
      "source": [
        "test.isnull().sum()"
      ],
      "execution_count": 443,
      "outputs": [
        {
          "output_type": "execute_result",
          "data": {
            "text/plain": [
              "Loan_ID              0\n",
              "Gender               3\n",
              "Married              2\n",
              "Dependents           6\n",
              "Education            0\n",
              "Self_Employed        3\n",
              "ApplicantIncome      0\n",
              "CoapplicantIncome    0\n",
              "LoanAmount           6\n",
              "Loan_Amount_Term     1\n",
              "Credit_History       7\n",
              "Property_Area        0\n",
              "dtype: int64"
            ]
          },
          "metadata": {
            "tags": []
          },
          "execution_count": 443
        }
      ]
    },
    {
      "cell_type": "code",
      "metadata": {
        "id": "7_cM3dsVppNO"
      },
      "source": [
        "test['Gender'].fillna(test['Gender'].mode()[0], inplace= True)\r\n",
        "test['Married'].fillna(test['Married'].mode()[0], inplace= True)\r\n",
        "test['Credit_History'].fillna(test['Credit_History'].mode()[0], inplace= True)"
      ],
      "execution_count": 444,
      "outputs": []
    },
    {
      "cell_type": "code",
      "metadata": {
        "id": "Tvm0Y_VFsRF0"
      },
      "source": [
        "test.drop(['Loan_ID','ApplicantIncome','CoapplicantIncome','LoanAmount','Loan_Amount_Term'],axis = 1, inplace=True)"
      ],
      "execution_count": 445,
      "outputs": []
    },
    {
      "cell_type": "code",
      "metadata": {
        "id": "USaFXRQHvrRx"
      },
      "source": [
        "test = test.astype({'Credit_History': 'object'})"
      ],
      "execution_count": 446,
      "outputs": []
    },
    {
      "cell_type": "code",
      "metadata": {
        "id": "EkBj5D7ovKZA"
      },
      "source": [
        "test = pd.get_dummies(test, drop_first=True)\r\n",
        "test.drop(['Dependents_1','Dependents_3+','Education_Not Graduate','Self_Employed_Yes','Property_Area_Urban'], axis = 1, inplace=True)"
      ],
      "execution_count": 447,
      "outputs": []
    },
    {
      "cell_type": "code",
      "metadata": {
        "id": "UCt2gWCmve9i"
      },
      "source": [
        "pred = lr.predict(test)"
      ],
      "execution_count": 452,
      "outputs": []
    },
    {
      "cell_type": "code",
      "metadata": {
        "id": "mWKuS0jKv1nX"
      },
      "source": [
        "index = range(0,len(pred))\r\n",
        "prediction_RF = pd.DataFrame(data=pred,index=index, columns=[\"prediction\"])\r\n",
        "prediction_RF.to_csv('pred.csv',index=False)"
      ],
      "execution_count": 455,
      "outputs": []
    },
    {
      "cell_type": "code",
      "metadata": {
        "id": "HK_JXzbIwFgq"
      },
      "source": [
        ""
      ],
      "execution_count": 449,
      "outputs": []
    }
  ]
}